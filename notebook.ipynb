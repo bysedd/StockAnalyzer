{
 "cells": [
  {
   "cell_type": "markdown",
   "id": "8b79fed42cb882c9",
   "metadata": {},
   "source": [
    "# Projeto 02\n",
    "\n",
    "Passo a passo do problema\n",
    "- Buscar as informações da ação automaticamente;\n",
    "- Criar as análises solicitadas;\n",
    "    - Cotação máxima;\n",
    "    - Cotação mínima;\n",
    "    - Valor médio.\n",
    "- Enviar um e-mail automaticamente para o gesto."
   ]
  },
  {
   "cell_type": "markdown",
   "id": "dfe0a78bcb7ed865",
   "metadata": {},
   "source": [
    "## Buscar dados da ação automaticamente\n",
    "\n",
    "Bibliotecas: `yfinance` e `matplotib`\n",
    "\n",
    "`pip install yfinance`\n",
    "`pip install matplotlib`"
   ]
  },
  {
   "cell_type": "markdown",
   "id": "fdff99500ba89c03",
   "metadata": {},
   "source": [
    "### Importando bibliotecas"
   ]
  },
  {
   "cell_type": "code",
   "id": "2ffa0d82fbc8dbf3",
   "metadata": {
    "ExecuteTime": {
     "end_time": "2024-08-07T13:26:13.200060Z",
     "start_time": "2024-08-07T13:26:10.486921Z"
    }
   },
   "source": [
    "import yfinance as yf"
   ],
   "outputs": [],
   "execution_count": 1
  },
  {
   "cell_type": "markdown",
   "id": "16c60ef972ba2eff",
   "metadata": {},
   "source": [
    "### Definindo variáveis"
   ]
  },
  {
   "cell_type": "code",
   "id": "d3c125e473561f32",
   "metadata": {
    "ExecuteTime": {
     "end_time": "2024-08-07T13:26:22.553842Z",
     "start_time": "2024-08-07T13:26:13.203062Z"
    }
   },
   "source": [
    "ticker = input(\"Digite o código da ação desejada: \")  # example: BBAS3.SA\n",
    "start = \"2020-01-01\"\n",
    "end = \"2020-12-31\""
   ],
   "outputs": [],
   "execution_count": 2
  },
  {
   "cell_type": "code",
   "id": "96033057909a6ea2",
   "metadata": {
    "ExecuteTime": {
     "end_time": "2024-08-07T13:26:24.369016Z",
     "start_time": "2024-08-07T13:26:22.555842Z"
    }
   },
   "source": [
    "df = yf.Ticker(ticker=ticker).history(start=start, end=end)\n",
    "close = df[\"Close\"]"
   ],
   "outputs": [],
   "execution_count": 3
  },
  {
   "cell_type": "markdown",
   "id": "c98b01c21e416f43",
   "metadata": {},
   "source": [
    "## Criar as análises solicitadas\n",
    "\n",
    "- Cotação máxima; \n",
    "- Cotação mínima; \n",
    "- Valor médio; "
   ]
  },
  {
   "cell_type": "code",
   "id": "ed1222cc88261e53",
   "metadata": {
    "ExecuteTime": {
     "end_time": "2024-08-07T13:26:24.385027Z",
     "start_time": "2024-08-07T13:26:24.371027Z"
    }
   },
   "source": [
    "closure = {\n",
    "    \"max\": round(close.max(), 2),\n",
    "    \"min\": round(close.min(), 2),\n",
    "    \"medium\": round(close.mean(), 2),\n",
    "}"
   ],
   "outputs": [],
   "execution_count": 4
  },
  {
   "cell_type": "markdown",
   "id": "13619c3105f95a24",
   "metadata": {},
   "source": [
    "## Enviar o e-mail automaticamente\n",
    "\n",
    "Bibliotecas: `smtplib` e `python-dotenv`"
   ]
  },
  {
   "cell_type": "code",
   "id": "848b312fad80da3a",
   "metadata": {
    "ExecuteTime": {
     "end_time": "2024-08-07T13:26:24.432025Z",
     "start_time": "2024-08-07T13:26:24.389027Z"
    }
   },
   "source": [
    "import os\n",
    "import smtplib\n",
    "from email.mime.text import MIMEText\n",
    "from email.mime.multipart import MIMEMultipart\n",
    "from email.header import Header\n",
    "from dotenv import load_dotenv"
   ],
   "outputs": [],
   "execution_count": 5
  },
  {
   "cell_type": "markdown",
   "id": "d91ab86a1a024a95",
   "metadata": {},
   "source": "Carregar o arquivo `.env` **que deve estar no diretório do projeto** e definir as variáveis."
  },
  {
   "cell_type": "code",
   "id": "ffc82b18972cc872",
   "metadata": {
    "ExecuteTime": {
     "end_time": "2024-08-07T13:26:24.463024Z",
     "start_time": "2024-08-07T13:26:24.436022Z"
    }
   },
   "source": [
    "load_dotenv()\n",
    "\n",
    "my_email = os.environ[\"MY_EMAIL\"]\n",
    "password = os.environ[\"PASSWORD\"]"
   ],
   "outputs": [],
   "execution_count": 6
  },
  {
   "cell_type": "markdown",
   "id": "813990b10c704cd5",
   "metadata": {},
   "source": ""
  },
  {
   "cell_type": "markdown",
   "id": "66af0f8eb4775f17",
   "metadata": {},
   "source": [
    "### Função para enviar email"
   ]
  },
  {
   "cell_type": "code",
   "id": "961f13de14fdfaf1",
   "metadata": {
    "ExecuteTime": {
     "end_time": "2024-08-07T13:26:24.494021Z",
     "start_time": "2024-08-07T13:26:24.467021Z"
    }
   },
   "source": [
    "def send_email(subject: str, message: str, to: str = my_email) -> None:\n",
    "    server = smtplib.SMTP(\"smtp.gmail.com\", port=587)\n",
    "    server.starttls()\n",
    "    server.login(my_email, password)\n",
    "\n",
    "    msg = MIMEMultipart()\n",
    "    msg[\"From\"] = my_email\n",
    "    msg[\"To\"] = to\n",
    "    msg[\"Subject\"] = Header(subject, \"utf-8\")\n",
    "\n",
    "    msg.attach(MIMEText(message, \"plain\", \"utf-8\"))\n",
    "\n",
    "    server.sendmail(my_email, to, msg.as_string())\n",
    "\n",
    "    server.quit()"
   ],
   "outputs": [],
   "execution_count": 7
  },
  {
   "cell_type": "code",
   "id": "3f3c4fa1898671e",
   "metadata": {
    "ExecuteTime": {
     "end_time": "2024-08-07T13:26:28.278404Z",
     "start_time": "2024-08-07T13:26:24.497020Z"
    }
   },
   "source": [
    "subject = \"Análises do Projeto 2020\"\n",
    "message = f\"\"\"\n",
    "Prezado gestor,\n",
    "\n",
    "Seguem as análises solicitadas da ação {ticker}\n",
    "\n",
    "Cotação máxima: R${closure[\"max\"]}\n",
    "Cotação mínima: R${closure[\"min\"]}\n",
    "Valor médio: R${closure[\"medium\"]}\n",
    "\n",
    "Qualquer dúvida estou a disposição!\n",
    "\n",
    "Atte.\n",
    "\"\"\"\n",
    "send_email(subject, message)"
   ],
   "outputs": [],
   "execution_count": 8
  }
 ],
 "metadata": {
  "kernelspec": {
   "display_name": "Python 3",
   "language": "python",
   "name": "python3"
  },
  "language_info": {
   "codemirror_mode": {
    "name": "ipython",
    "version": 3
   },
   "file_extension": ".py",
   "mimetype": "text/x-python",
   "name": "python",
   "nbconvert_exporter": "python",
   "pygments_lexer": "ipython3",
   "version": "3.8.19"
  }
 },
 "nbformat": 4,
 "nbformat_minor": 5
}
